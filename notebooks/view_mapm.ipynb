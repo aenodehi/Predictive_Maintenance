{
 "cells": [
  {
   "cell_type": "markdown",
   "metadata": {},
   "source": [
    "# MAPM: Microsoft Azure Predictive Maintenance"
   ]
  },
  {
   "cell_type": "code",
   "execution_count": 3,
   "metadata": {},
   "outputs": [],
   "source": [
    "import os\n",
    "import tqdm\n",
    "import pandas as pd\n",
    "import matplotlib.pyplot as plt\n",
    "from matplotlib.backends.backend_pdf import PdfPages"
   ]
  },
  {
   "cell_type": "markdown",
   "metadata": {},
   "source": [
    "## Overview of Raw Data"
   ]
  },
  {
   "cell_type": "markdown",
   "metadata": {},
   "source": [
    "Error logs (hourly):\n",
    "- encountered by the machines while in operating condition.\n",
    "- don't shut down the machines, not considered as failures.\n"
   ]
  },
  {
   "cell_type": "code",
   "execution_count": 6,
   "metadata": {},
   "outputs": [
    {
     "data": {
      "text/html": [
       "<div>\n",
       "<style scoped>\n",
       "    .dataframe tbody tr th:only-of-type {\n",
       "        vertical-align: middle;\n",
       "    }\n",
       "\n",
       "    .dataframe tbody tr th {\n",
       "        vertical-align: top;\n",
       "    }\n",
       "\n",
       "    .dataframe thead th {\n",
       "        text-align: right;\n",
       "    }\n",
       "</style>\n",
       "<table border=\"1\" class=\"dataframe\">\n",
       "  <thead>\n",
       "    <tr style=\"text-align: right;\">\n",
       "      <th></th>\n",
       "      <th>datetime</th>\n",
       "      <th>machineID</th>\n",
       "      <th>errorID</th>\n",
       "    </tr>\n",
       "  </thead>\n",
       "  <tbody>\n",
       "    <tr>\n",
       "      <th>0</th>\n",
       "      <td>2015-01-03 07:00:00</td>\n",
       "      <td>1</td>\n",
       "      <td>error1</td>\n",
       "    </tr>\n",
       "    <tr>\n",
       "      <th>1</th>\n",
       "      <td>2015-01-03 20:00:00</td>\n",
       "      <td>1</td>\n",
       "      <td>error3</td>\n",
       "    </tr>\n",
       "    <tr>\n",
       "      <th>2</th>\n",
       "      <td>2015-01-04 06:00:00</td>\n",
       "      <td>1</td>\n",
       "      <td>error5</td>\n",
       "    </tr>\n",
       "    <tr>\n",
       "      <th>3</th>\n",
       "      <td>2015-01-10 15:00:00</td>\n",
       "      <td>1</td>\n",
       "      <td>error4</td>\n",
       "    </tr>\n",
       "    <tr>\n",
       "      <th>4</th>\n",
       "      <td>2015-01-22 10:00:00</td>\n",
       "      <td>1</td>\n",
       "      <td>error4</td>\n",
       "    </tr>\n",
       "    <tr>\n",
       "      <th>...</th>\n",
       "      <td>...</td>\n",
       "      <td>...</td>\n",
       "      <td>...</td>\n",
       "    </tr>\n",
       "    <tr>\n",
       "      <th>3914</th>\n",
       "      <td>2015-11-21 08:00:00</td>\n",
       "      <td>100</td>\n",
       "      <td>error2</td>\n",
       "    </tr>\n",
       "    <tr>\n",
       "      <th>3915</th>\n",
       "      <td>2015-12-04 02:00:00</td>\n",
       "      <td>100</td>\n",
       "      <td>error1</td>\n",
       "    </tr>\n",
       "    <tr>\n",
       "      <th>3916</th>\n",
       "      <td>2015-12-08 06:00:00</td>\n",
       "      <td>100</td>\n",
       "      <td>error2</td>\n",
       "    </tr>\n",
       "    <tr>\n",
       "      <th>3917</th>\n",
       "      <td>2015-12-08 06:00:00</td>\n",
       "      <td>100</td>\n",
       "      <td>error3</td>\n",
       "    </tr>\n",
       "    <tr>\n",
       "      <th>3918</th>\n",
       "      <td>2015-12-22 03:00:00</td>\n",
       "      <td>100</td>\n",
       "      <td>error3</td>\n",
       "    </tr>\n",
       "  </tbody>\n",
       "</table>\n",
       "<p>3919 rows × 3 columns</p>\n",
       "</div>"
      ],
      "text/plain": [
       "                 datetime  machineID errorID\n",
       "0     2015-01-03 07:00:00          1  error1\n",
       "1     2015-01-03 20:00:00          1  error3\n",
       "2     2015-01-04 06:00:00          1  error5\n",
       "3     2015-01-10 15:00:00          1  error4\n",
       "4     2015-01-22 10:00:00          1  error4\n",
       "...                   ...        ...     ...\n",
       "3914  2015-11-21 08:00:00        100  error2\n",
       "3915  2015-12-04 02:00:00        100  error1\n",
       "3916  2015-12-08 06:00:00        100  error2\n",
       "3917  2015-12-08 06:00:00        100  error3\n",
       "3918  2015-12-22 03:00:00        100  error3\n",
       "\n",
       "[3919 rows x 3 columns]"
      ]
     },
     "execution_count": 6,
     "metadata": {},
     "output_type": "execute_result"
    }
   ],
   "source": [
    "pd.read_csv('../datasets/mapm/PdM_errors.csv.gz')"
   ]
  },
  {
   "cell_type": "code",
   "execution_count": 8,
   "metadata": {},
   "outputs": [
    {
     "data": {
      "text/html": [
       "<div>\n",
       "<style scoped>\n",
       "    .dataframe tbody tr th:only-of-type {\n",
       "        vertical-align: middle;\n",
       "    }\n",
       "\n",
       "    .dataframe tbody tr th {\n",
       "        vertical-align: top;\n",
       "    }\n",
       "\n",
       "    .dataframe thead th {\n",
       "        text-align: right;\n",
       "    }\n",
       "</style>\n",
       "<table border=\"1\" class=\"dataframe\">\n",
       "  <thead>\n",
       "    <tr style=\"text-align: right;\">\n",
       "      <th></th>\n",
       "      <th>datetime</th>\n",
       "      <th>machineID</th>\n",
       "      <th>failure</th>\n",
       "    </tr>\n",
       "  </thead>\n",
       "  <tbody>\n",
       "    <tr>\n",
       "      <th>0</th>\n",
       "      <td>2015-01-05 06:00:00</td>\n",
       "      <td>1</td>\n",
       "      <td>comp4</td>\n",
       "    </tr>\n",
       "    <tr>\n",
       "      <th>1</th>\n",
       "      <td>2015-03-06 06:00:00</td>\n",
       "      <td>1</td>\n",
       "      <td>comp1</td>\n",
       "    </tr>\n",
       "    <tr>\n",
       "      <th>2</th>\n",
       "      <td>2015-04-20 06:00:00</td>\n",
       "      <td>1</td>\n",
       "      <td>comp2</td>\n",
       "    </tr>\n",
       "    <tr>\n",
       "      <th>3</th>\n",
       "      <td>2015-06-19 06:00:00</td>\n",
       "      <td>1</td>\n",
       "      <td>comp4</td>\n",
       "    </tr>\n",
       "    <tr>\n",
       "      <th>4</th>\n",
       "      <td>2015-09-02 06:00:00</td>\n",
       "      <td>1</td>\n",
       "      <td>comp4</td>\n",
       "    </tr>\n",
       "    <tr>\n",
       "      <th>...</th>\n",
       "      <td>...</td>\n",
       "      <td>...</td>\n",
       "      <td>...</td>\n",
       "    </tr>\n",
       "    <tr>\n",
       "      <th>756</th>\n",
       "      <td>2015-11-29 06:00:00</td>\n",
       "      <td>99</td>\n",
       "      <td>comp3</td>\n",
       "    </tr>\n",
       "    <tr>\n",
       "      <th>757</th>\n",
       "      <td>2015-12-14 06:00:00</td>\n",
       "      <td>99</td>\n",
       "      <td>comp4</td>\n",
       "    </tr>\n",
       "    <tr>\n",
       "      <th>758</th>\n",
       "      <td>2015-02-12 06:00:00</td>\n",
       "      <td>100</td>\n",
       "      <td>comp1</td>\n",
       "    </tr>\n",
       "    <tr>\n",
       "      <th>759</th>\n",
       "      <td>2015-09-10 06:00:00</td>\n",
       "      <td>100</td>\n",
       "      <td>comp1</td>\n",
       "    </tr>\n",
       "    <tr>\n",
       "      <th>760</th>\n",
       "      <td>2015-12-09 06:00:00</td>\n",
       "      <td>100</td>\n",
       "      <td>comp2</td>\n",
       "    </tr>\n",
       "  </tbody>\n",
       "</table>\n",
       "<p>761 rows × 3 columns</p>\n",
       "</div>"
      ],
      "text/plain": [
       "                datetime  machineID failure\n",
       "0    2015-01-05 06:00:00          1   comp4\n",
       "1    2015-03-06 06:00:00          1   comp1\n",
       "2    2015-04-20 06:00:00          1   comp2\n",
       "3    2015-06-19 06:00:00          1   comp4\n",
       "4    2015-09-02 06:00:00          1   comp4\n",
       "..                   ...        ...     ...\n",
       "756  2015-11-29 06:00:00         99   comp3\n",
       "757  2015-12-14 06:00:00         99   comp4\n",
       "758  2015-02-12 06:00:00        100   comp1\n",
       "759  2015-09-10 06:00:00        100   comp1\n",
       "760  2015-12-09 06:00:00        100   comp2\n",
       "\n",
       "[761 rows x 3 columns]"
      ]
     },
     "execution_count": 8,
     "metadata": {},
     "output_type": "execute_result"
    }
   ],
   "source": [
    "pd.read_csv('../datasets/mapm/PdM_failures.csv.gz')"
   ]
  },
  {
   "cell_type": "code",
   "execution_count": 9,
   "metadata": {},
   "outputs": [
    {
     "data": {
      "text/html": [
       "<div>\n",
       "<style scoped>\n",
       "    .dataframe tbody tr th:only-of-type {\n",
       "        vertical-align: middle;\n",
       "    }\n",
       "\n",
       "    .dataframe tbody tr th {\n",
       "        vertical-align: top;\n",
       "    }\n",
       "\n",
       "    .dataframe thead th {\n",
       "        text-align: right;\n",
       "    }\n",
       "</style>\n",
       "<table border=\"1\" class=\"dataframe\">\n",
       "  <thead>\n",
       "    <tr style=\"text-align: right;\">\n",
       "      <th></th>\n",
       "      <th>machineID</th>\n",
       "      <th>model</th>\n",
       "      <th>age</th>\n",
       "    </tr>\n",
       "  </thead>\n",
       "  <tbody>\n",
       "    <tr>\n",
       "      <th>0</th>\n",
       "      <td>1</td>\n",
       "      <td>model3</td>\n",
       "      <td>18</td>\n",
       "    </tr>\n",
       "    <tr>\n",
       "      <th>1</th>\n",
       "      <td>2</td>\n",
       "      <td>model4</td>\n",
       "      <td>7</td>\n",
       "    </tr>\n",
       "    <tr>\n",
       "      <th>2</th>\n",
       "      <td>3</td>\n",
       "      <td>model3</td>\n",
       "      <td>8</td>\n",
       "    </tr>\n",
       "    <tr>\n",
       "      <th>3</th>\n",
       "      <td>4</td>\n",
       "      <td>model3</td>\n",
       "      <td>7</td>\n",
       "    </tr>\n",
       "    <tr>\n",
       "      <th>4</th>\n",
       "      <td>5</td>\n",
       "      <td>model3</td>\n",
       "      <td>2</td>\n",
       "    </tr>\n",
       "    <tr>\n",
       "      <th>...</th>\n",
       "      <td>...</td>\n",
       "      <td>...</td>\n",
       "      <td>...</td>\n",
       "    </tr>\n",
       "    <tr>\n",
       "      <th>95</th>\n",
       "      <td>96</td>\n",
       "      <td>model2</td>\n",
       "      <td>10</td>\n",
       "    </tr>\n",
       "    <tr>\n",
       "      <th>96</th>\n",
       "      <td>97</td>\n",
       "      <td>model2</td>\n",
       "      <td>14</td>\n",
       "    </tr>\n",
       "    <tr>\n",
       "      <th>97</th>\n",
       "      <td>98</td>\n",
       "      <td>model2</td>\n",
       "      <td>20</td>\n",
       "    </tr>\n",
       "    <tr>\n",
       "      <th>98</th>\n",
       "      <td>99</td>\n",
       "      <td>model1</td>\n",
       "      <td>14</td>\n",
       "    </tr>\n",
       "    <tr>\n",
       "      <th>99</th>\n",
       "      <td>100</td>\n",
       "      <td>model4</td>\n",
       "      <td>5</td>\n",
       "    </tr>\n",
       "  </tbody>\n",
       "</table>\n",
       "<p>100 rows × 3 columns</p>\n",
       "</div>"
      ],
      "text/plain": [
       "    machineID   model  age\n",
       "0           1  model3   18\n",
       "1           2  model4    7\n",
       "2           3  model3    8\n",
       "3           4  model3    7\n",
       "4           5  model3    2\n",
       "..        ...     ...  ...\n",
       "95         96  model2   10\n",
       "96         97  model2   14\n",
       "97         98  model2   20\n",
       "98         99  model1   14\n",
       "99        100  model4    5\n",
       "\n",
       "[100 rows x 3 columns]"
      ]
     },
     "execution_count": 9,
     "metadata": {},
     "output_type": "execute_result"
    }
   ],
   "source": [
    "pd.read_csv('../datasets/mapm/PdM_machines.csv.gz')"
   ]
  },
  {
   "cell_type": "code",
   "execution_count": null,
   "metadata": {},
   "outputs": [],
   "source": [
    "pd.read_csv('../datasets/ma/PdM_maint.csv.gz')"
   ]
  },
  {
   "cell_type": "markdown",
   "metadata": {},
   "source": [
    "Telemetry Time Series Data:  \n",
    "- Hourly average of voltage, rotation, pressure, vibration\n",
    "- Collected from 100 machines for the year 2015"
   ]
  },
  {
   "cell_type": "code",
   "execution_count": null,
   "metadata": {},
   "outputs": [],
   "source": [
    "pd.read_csv('../datasets/MAPM/PdM_telemetry.csv.gz')"
   ]
  },
  {
   "cell_type": "code",
   "execution_count": null,
   "metadata": {},
   "outputs": [],
   "source": [
    "def get_sequence_and_events(machine_id=1, error_id=None, comp_id=None,\n",
    "                             start_date=None, end_date=None):\n",
    "\n",
    "    sensors = pd.read_csv('../datasets/MAPM/PdM_telemetry.csv.gz')\n",
    "    sensors = sensors[sensors.machineID == machine_id].reset_index(drop=True)\n",
    "    # print(sensors.shape)\n",
    "    errors = pd.read_csv('../datasets/MAPM/PdM_errors.csv.gz')\n",
    "    errors = errors[errors.machineID == machine_id].reset_index(drop=True)\n",
    "    # print(errors.shape)\n",
    "    failures = pd.read_csv('../datasets/MAPM/PdM_failures.csv.gz')\n",
    "    failures = failures[failures.machineID == machine_id]\n",
    "    # print(failures.shape)\n",
    "    data = sensors.merge(errors, how='left', on='datetime').merge(\n",
    "        failures, how='left', on='datetime')\n",
    "\n",
    "    data.datetime = pd.to_datetime(data.datetime)\n",
    "    data = data.set_index('datetime')\n",
    "\n",
    "    if start_date is not None:\n",
    "        data = data[start_date:]\n",
    "    if end_date is not None:\n",
    "        data = data[:end_date]\n",
    "\n",
    "    return data"
   ]
  },
  {
   "cell_type": "code",
   "execution_count": null,
   "metadata": {},
   "outputs": [],
   "source": [
    "def plot_sequence_and_events(data, machine_id=1):\n",
    "\n",
    "    data = data[data.machineID == machine_id]\n",
    "    fig, ax = plt.subplots(4 + 2, figsize=(8, 8))\n",
    "\n",
    "    data.plot(y='volt', legend=True, ax=ax[0])\n",
    "    data.plot(y='rotate', legend=True, ax=ax[1])\n",
    "    data.plot(y='pressure', legend=True, ax=ax[2])\n",
    "    data.plot(y='vibration', legend=True, ax=ax[3])\n",
    "\n",
    "    if data.errorID.isnull().sum() < data.errorID.shape[0]:\n",
    "        pd.get_dummies(data.errorID).plot(ax=ax[4])\n",
    "    if data.failure.isnull().sum() < data.failure.shape[0]:\n",
    "        pd.get_dummies(data.failure).plot(ax=ax[5])\n",
    "\n",
    "    ax[0].set_title('Machine #{}'.format(machine_id))\n",
    "\n",
    "    for i in range(5):\n",
    "        ax[i].set_xlabel(None)\n",
    "        ax[i].set_xticklabels([])\n",
    "\n",
    "    fig.tight_layout()\n",
    "\n",
    "    return fig, ax"
   ]
  },
  {
   "cell_type": "code",
   "execution_count": null,
   "metadata": {},
   "outputs": [],
   "source": [
    "def gen_summary(outdir='../out/'):\n",
    "    os.makedirs(outdir, exist_ok=True)\n",
    "    df = load_data('../datasets/mapm/')\n",
    "    with PdfPages(outdir + '/mapm_summary.pdf') as pp:\n",
    "        for i in tqdm.trange(1, 101):\n",
    "            fig, _ = plot_sequence_and_events(df, machine_id=i)\n",
    "            fig.savefig(pp, format='pdf')\n",
    "            plt.clf()\n",
    "            plt.close()\n"
   ]
  },
  {
   "cell_type": "code",
   "execution_count": null,
   "metadata": {},
   "outputs": [],
   "source": [
    "gen_summary()"
   ]
  },
  {
   "cell_type": "code",
   "execution_count": null,
   "metadata": {},
   "outputs": [],
   "source": [
    "# Plot for a single machine\n",
    "plot_sequence_and_events()"
   ]
  },
  {
   "cell_type": "markdown",
   "metadata": {},
   "source": [
    "## Dataset Making"
   ]
  },
  {
   "cell_type": "code",
   "execution_count": null,
   "metadata": {},
   "outputs": [],
   "source": [
    "def load_data(fp):\n",
    "    # Sensor data\n",
    "    data = pd.read_csv(fp + '/PdM_telemetry.csv.gz')\n",
    "\n",
    "    # Error alarm logs\n",
    "    data = data.merge(\n",
    "        pd.read_csv(fp + '/PdM_errors.csv.gz'),\n",
    "        how='left', on=['datetime', 'machineID'])\n",
    "\n",
    "    # Failure logs\n",
    "    data = data.merge(\n",
    "        pd.read_csv(fp + '/PdM_failures.csv.gz'),\n",
    "        how='left', on=['datetime', 'machineID'])\n",
    "    \n",
    "    # Formatting\n",
    "    data.datetime = pd.to_datetime(data.datetime)\n",
    "\n",
    "    return data"
   ]
  },
  {
   "cell_type": "code",
   "execution_count": null,
   "metadata": {},
   "outputs": [],
   "source": [
    "def cleaning(df):\n",
    "\n",
    "    # NaN values are encoded to -1\n",
    "    df = df.sort_values('errorID')\n",
    "    df.errorID = df.errorID.factorize()[0]\n",
    "    df = df.sort_values('failure')\n",
    "    df.failure = df.failure.factorize()[0]\n",
    "    df = df.sort_values(['machineID', 'datetime'])\n",
    "\n",
    "    df.errorID = df.errorID.astype('category')\n",
    "    df.failure = df.failure.astype('category')\n",
    "\n",
    "    df.volt = df.volt.astype('float32')\n",
    "    df.rotate = df.rotate.astype('float32')\n",
    "    df.pressure = df.pressure.astype('float32')\n",
    "    df.vibration = df.vibration.astype('float32')\n",
    "\n",
    "    df.datetime = pd.to_datetime(df.datetime)\n",
    "    return df"
   ]
  },
  {
   "cell_type": "code",
   "execution_count": null,
   "metadata": {},
   "outputs": [],
   "source": [
    "df = load_data('../datasets/mapm/')\n",
    "df = cleaning(df)\n",
    "# df.errorID = df.errorID.sort_values().factorize()[0]\n",
    "# df.failure = df.failure.sort_values().factorize()[0]\n",
    "# df = df.sort_values(['machineID', 'datetime'])"
   ]
  },
  {
   "cell_type": "code",
   "execution_count": null,
   "metadata": {},
   "outputs": [],
   "source": [
    "df.dtypes"
   ]
  },
  {
   "cell_type": "code",
   "execution_count": null,
   "metadata": {},
   "outputs": [],
   "source": [
    "df = load_data('../datasets/mapm/')\n",
    "df = df.sort_values('errorID')\n",
    "df.errorID = df.errorID.factorize()[0]\n",
    "df = df.sort_values('failure')\n",
    "df.failure = df.failure.factorize()[0]\n",
    "df = df.sort_values(['machineID', 'datetime'])"
   ]
  },
  {
   "cell_type": "code",
   "execution_count": null,
   "metadata": {},
   "outputs": [],
   "source": [
    "df"
   ]
  },
  {
   "cell_type": "code",
   "execution_count": null,
   "metadata": {},
   "outputs": [],
   "source": [
    "df_m = [g for _, g in df.groupby('machineID')]\n",
    "df_m[1]"
   ]
  },
  {
   "cell_type": "markdown",
   "metadata": {},
   "source": [
    "## Preprocessing"
   ]
  },
  {
   "cell_type": "code",
   "execution_count": null,
   "metadata": {},
   "outputs": [],
   "source": []
  }
 ],
 "metadata": {
  "interpreter": {
   "hash": "16dbba425ba0731f581592bff1ceb33a70db2cdf9052cbf447b98983e28f2ced"
  },
  "kernelspec": {
   "display_name": "Python 3 (ipykernel)",
   "language": "python",
   "name": "python3"
  },
  "language_info": {
   "codemirror_mode": {
    "name": "ipython",
    "version": 3
   },
   "file_extension": ".py",
   "mimetype": "text/x-python",
   "name": "python",
   "nbconvert_exporter": "python",
   "pygments_lexer": "ipython3",
   "version": "3.9.13"
  },
  "toc": {
   "base_numbering": 1,
   "nav_menu": {},
   "number_sections": true,
   "sideBar": true,
   "skip_h1_title": false,
   "title_cell": "Table of Contents",
   "title_sidebar": "Contents",
   "toc_cell": false,
   "toc_position": {},
   "toc_section_display": true,
   "toc_window_display": false
  }
 },
 "nbformat": 4,
 "nbformat_minor": 2
}
